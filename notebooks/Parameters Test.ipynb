{
 "cells": [
  {
   "attachments": {},
   "cell_type": "markdown",
   "metadata": {},
   "source": [
    "# Parameters Test\n",
    "\n",
    "The purpose of this test is to understand which parameter ranges distinguish between the regime in which mutations are not overlapping (thus easily distinguishable) and the regime in which they are overlapping (reconstruction is required)."
   ]
  },
  {
   "cell_type": "code",
   "execution_count": 1,
   "metadata": {},
   "outputs": [],
   "source": [
    "import sys\n",
    "sys.path.insert(1, '../code') \n",
    "from Parameters import *\n",
    "from Simulator import Simulator\n",
    "import matplotlib.pyplot as plt\n",
    "import numpy as np"
   ]
  },
  {
   "attachments": {},
   "cell_type": "markdown",
   "metadata": {},
   "source": [
    "## First Test: average number of events for each duplication\n",
    "\n",
    "Here for semplicity we set: \n",
    "- distribution of the number of events = Poisson distribution;\n",
    "- distribution of the Rearrangement length = truncated uniform distribution;\n",
    "- all the events (Rearrangements/Mutations) are equiprobable:\n",
    "\n",
    "The planned simulation should reach $O(10^6)$ cells at the end of the last generation (which would be the 20th). Unfortunately, my laptop does not reach the computing power and memory required to simulate 20 generations. \\\n",
    "To overcome the problem, we will simulate only 5 generations ($\\frac{1}{4}$ of the total). Assuming that for each duplication each cell undergoes an average number of events, we expect that the average number of events that will give the same result but in 20 generations will be $\\frac{1}{4}$ of that found."
   ]
  },
  {
   "cell_type": "code",
   "execution_count": 2,
   "metadata": {},
   "outputs": [],
   "source": [
    "number_of_generations = 5"
   ]
  },
  {
   "cell_type": "code",
   "execution_count": 4,
   "metadata": {},
   "outputs": [
    {
     "name": "stdout",
     "output_type": "stream",
     "text": [
      "\n",
      "Number of events: 0\n",
      "average: 0.0, standard deviation: 0.0\n",
      "max average: 0.0, max standard deviation: 0.0\n",
      "\n",
      "Number of events: 1\n",
      "average: 0.30078125, standard deviation: 0.45859774274241416\n",
      "max average: 1.0, max standard deviation: 0.0\n",
      "\n",
      "Number of events: 2\n",
      "average: 0.517578125, standard deviation: 0.518866321436923\n",
      "max average: 2.0, max standard deviation: 0.0\n",
      "\n",
      "Number of events: 3\n",
      "average: 0.62890625, standard deviation: 0.540348895354601\n",
      "max average: 1.9375, max standard deviation: 0.24206145913796356\n",
      "\n",
      "Number of events: 4\n",
      "average: 0.8359375, standard deviation: 0.4289766847903858\n",
      "max average: 1.78125, max standard deviation: 0.41339864235384227\n",
      "\n",
      "Number of events: 5\n",
      "average: 0.849609375, standard deviation: 0.4494352399535548\n",
      "max average: 1.875, max standard deviation: 0.33071891388307384\n",
      "\n",
      "Number of events: 6\n",
      "average: 0.982421875, standard deviation: 0.42583052323839393\n",
      "max average: 3.0, max standard deviation: 0.0\n",
      "\n",
      "Number of events: 7\n",
      "average: 1.01171875, standard deviation: 0.4283181304806481\n",
      "max average: 2.625, max standard deviation: 0.4841229182759271\n",
      "\n",
      "Number of events: 8\n",
      "average: 1.05078125, standard deviation: 0.41617606208002583\n",
      "max average: 2.5, max standard deviation: 0.5\n",
      "\n",
      "Number of events: 9\n",
      "average: 1.060546875, standard deviation: 0.38811203398984473\n",
      "max average: 2.0, max standard deviation: 0.0\n",
      "\n",
      "Number of events: 10\n",
      "average: 1.142578125, standard deviation: 0.501154520354236\n",
      "max average: 2.78125, max standard deviation: 0.41339864235384227\n",
      "\n",
      "Number of events: 11\n",
      "average: 1.16015625, standard deviation: 0.443853833582563\n",
      "max average: 2.9375, max standard deviation: 0.24206145913796356\n",
      "\n",
      "Number of events: 12\n",
      "average: 1.27734375, standard deviation: 0.48937377773634083\n",
      "max average: 3.40625, max standard deviation: 0.7849910429425294\n",
      "\n",
      "Number of events: 13\n",
      "average: 1.216796875, standard deviation: 0.43958331404892337\n",
      "max average: 2.59375, max standard deviation: 0.4911323014219285\n",
      "\n",
      "Number of events: 14\n",
      "average: 1.390625, standard deviation: 0.6121730632549917\n",
      "max average: 3.1875, max standard deviation: 0.6343057228182637\n",
      "\n",
      "Number of events: 15\n",
      "average: 1.3984375, standard deviation: 0.5841639826228163\n",
      "max average: 3.375, max standard deviation: 0.4841229182759271\n",
      "\n",
      "Number of events: 16\n",
      "average: 1.25, standard deviation: 0.5115845482420281\n",
      "max average: 2.6875, max standard deviation: 0.46351240544347894\n",
      "\n",
      "Number of events: 17\n",
      "average: 1.310546875, standard deviation: 0.5184544468202914\n",
      "max average: 3.0, max standard deviation: 0.0\n",
      "\n",
      "Number of events: 18\n",
      "average: 1.3828125, standard deviation: 0.5607067770624411\n",
      "max average: 3.4375, max standard deviation: 0.6091746465505602\n",
      "\n",
      "Number of events: 19\n",
      "average: 1.447265625, standard deviation: 0.5872608753300014\n",
      "max average: 3.5625, max standard deviation: 0.5555121510822243\n"
     ]
    }
   ],
   "source": [
    "n_tot = 20\n",
    "plots = []\n",
    "stat = np.zeros((n_tot, 2))\n",
    "max_stat = np.zeros((n_tot, 2))\n",
    "for average_events_number in range(n_tot):\n",
    "     print(f\"\\nNumber of events: {average_events_number}\")\n",
    "     simul = Simulator(chromosome_table, number_of_generations, average_events_number, cumulative_list, \\\n",
    "          n_events_distrib, del_len_distrib, ins_len_distrib, transl_len_distrib, dupl_len_distrib)\n",
    "     simul.run_visualization(simul.parent, number_of_generations)\n",
    "     ave, stdv = simul.stat_cumulated_mutations()\n",
    "     max_ave, max_stdv = simul.stat_max_cumulated_mutations()\n",
    "     stat[average_events_number, 0], stat[average_events_number, 1] = ave, stdv\n",
    "     max_stat[average_events_number, 0], max_stat[average_events_number, 1] = max_ave, max_stdv\n",
    "     print(f\"average: {ave}, standard deviation: {stdv}\")\n",
    "     print(f\"max average: {max_ave}, max standard deviation: {max_stdv}\")"
   ]
  },
  {
   "cell_type": "code",
   "execution_count": 5,
   "metadata": {},
   "outputs": [
    {
     "data": {
      "image/png": "[encoded data removed]",
      "text/plain": [
       "<Figure size 432x288 with 1 Axes>"
      ]
     },
     "metadata": {
      "needs_background": "light"
     },
     "output_type": "display_data"
    }
   ],
   "source": [
    "fig, ax = plt.subplots() \n",
    "ax.set_title(\"Average overlapped mutations\")\n",
    "ax.set_xlabel(\"Number of Generations\")\n",
    "ax.errorbar(range(n_tot), stat[:, 0], yerr=stat[:, 1], marker='o', label='over the each chromosome')\n",
    "ax.errorbar(range(n_tot), max_stat[:, 0], yerr=max_stat[:, 1], marker='o', label='over the each cell')\n",
    "ax.legend()\n",
    "ax.grid(True)"
   ]
  },
  {
   "attachments": {},
   "cell_type": "markdown",
   "metadata": {},
   "source": [
    "Test with halved number of generations"
   ]
  },
  {
   "cell_type": "code",
   "execution_count": null,
   "metadata": {},
   "outputs": [],
   "source": [
    "number_of_generations = 5"
   ]
  },
  {
   "cell_type": "code",
   "execution_count": null,
   "metadata": {},
   "outputs": [
    {
     "name": "stdout",
     "output_type": "stream",
     "text": [
      "\n",
      "Number of events: 0\n",
      "average: 0.0, standard deviation: 0.0\n",
      "max average: 0.0, max standard deviation: 0.0\n",
      "\n",
      "Number of events: 1\n",
      "average: 0.197265625, standard deviation: 0.39793454008587814\n",
      "max average: 1.0, max standard deviation: 0.0\n",
      "\n",
      "Number of events: 2\n",
      "average: 0.478515625, standard deviation: 0.5034328869182658\n",
      "max average: 1.125, max standard deviation: 0.33071891388307384\n",
      "\n",
      "Number of events: 3\n",
      "average: 0.564453125, standard deviation: 0.4997519831653841\n",
      "max average: 1.0625, max standard deviation: 0.24206145913796356\n",
      "\n",
      "Number of events: 4\n",
      "average: 0.833984375, standard deviation: 0.4304990560452594\n",
      "max average: 1.9375, max standard deviation: 0.24206145913796356\n",
      "\n",
      "Number of events: 5\n",
      "average: 0.873046875, standard deviation: 0.4116184872582066\n",
      "max average: 1.875, max standard deviation: 0.33071891388307384\n",
      "\n",
      "Number of events: 6\n",
      "average: 0.984375, standard deviation: 0.4716058835245803\n",
      "max average: 2.625, max standard deviation: 0.5448623679425842\n",
      "\n",
      "Number of events: 7\n",
      "average: 0.970703125, standard deviation: 0.4475640380048808\n",
      "max average: 2.65625, max standard deviation: 0.47495887979908324\n",
      "\n",
      "Number of events: 8\n"
     ]
    },
    {
     "ename": "KeyboardInterrupt",
     "evalue": "",
     "output_type": "error",
     "traceback": [
      "\u001b[0;31m---------------------------------------------------------------------------\u001b[0m",
      "\u001b[0;31mKeyboardInterrupt\u001b[0m                         Traceback (most recent call last)",
      "\u001b[0;32m<ipython-input-7-0705ae40b56c>\u001b[0m in \u001b[0;36m<module>\u001b[0;34m\u001b[0m\n\u001b[1;32m      7\u001b[0m      simul = Simulator(chromosome_table, number_of_generations, average_events_number, cumulative_list, \\\n\u001b[1;32m      8\u001b[0m      n_events_distrib, del_len_distrib, ins_len_distrib, transl_len_distrib, dupl_len_distrib, visual = True)\n\u001b[0;32m----> 9\u001b[0;31m      \u001b[0msimul\u001b[0m\u001b[0;34m.\u001b[0m\u001b[0mrun_visualization\u001b[0m\u001b[0;34m(\u001b[0m\u001b[0msimul\u001b[0m\u001b[0;34m.\u001b[0m\u001b[0mparent\u001b[0m\u001b[0;34m,\u001b[0m \u001b[0mnumber_of_generations\u001b[0m\u001b[0;34m)\u001b[0m\u001b[0;34m\u001b[0m\u001b[0;34m\u001b[0m\u001b[0m\n\u001b[0m\u001b[1;32m     10\u001b[0m      \u001b[0mave\u001b[0m\u001b[0;34m,\u001b[0m \u001b[0mstdv\u001b[0m \u001b[0;34m=\u001b[0m \u001b[0msimul\u001b[0m\u001b[0;34m.\u001b[0m\u001b[0mstat_cumulated_mutations\u001b[0m\u001b[0;34m(\u001b[0m\u001b[0;34m)\u001b[0m\u001b[0;34m\u001b[0m\u001b[0;34m\u001b[0m\u001b[0m\n\u001b[1;32m     11\u001b[0m      \u001b[0mmax_ave\u001b[0m\u001b[0;34m,\u001b[0m \u001b[0mmax_stdv\u001b[0m \u001b[0;34m=\u001b[0m \u001b[0msimul\u001b[0m\u001b[0;34m.\u001b[0m\u001b[0mstat_max_cumulated_mutations\u001b[0m\u001b[0;34m(\u001b[0m\u001b[0;34m)\u001b[0m\u001b[0;34m\u001b[0m\u001b[0;34m\u001b[0m\u001b[0m\n",
      "\u001b[0;32m~/Desktop/Project/yeast_cascade_mutation_simulator/code/Simulator.py\u001b[0m in \u001b[0;36mrun_visualization\u001b[0;34m(self, parent, n_generations)\u001b[0m\n\u001b[1;32m    644\u001b[0m         \u001b[0;31m# END INNER FUNCTIONS\u001b[0m\u001b[0;34m\u001b[0m\u001b[0;34m\u001b[0m\u001b[0;34m\u001b[0m\u001b[0m\n\u001b[1;32m    645\u001b[0m         \u001b[0mself\u001b[0m\u001b[0;34m.\u001b[0m\u001b[0mleaves\u001b[0m \u001b[0;34m=\u001b[0m \u001b[0;34m[\u001b[0m\u001b[0;34m]\u001b[0m\u001b[0;34m\u001b[0m\u001b[0;34m\u001b[0m\u001b[0m\n\u001b[0;32m--> 646\u001b[0;31m         \u001b[0mvisualizator\u001b[0m\u001b[0;34m(\u001b[0m\u001b[0mparent\u001b[0m\u001b[0;34m)\u001b[0m\u001b[0;34m\u001b[0m\u001b[0;34m\u001b[0m\u001b[0m\n\u001b[0m\u001b[1;32m    647\u001b[0m         \u001b[0;32mreturn\u001b[0m\u001b[0;34m\u001b[0m\u001b[0;34m\u001b[0m\u001b[0m\n\u001b[1;32m    648\u001b[0m \u001b[0;34m\u001b[0m\u001b[0m\n",
      "\u001b[0;32m~/Desktop/Project/yeast_cascade_mutation_simulator/code/Simulator.py\u001b[0m in \u001b[0;36mvisualizator\u001b[0;34m(parent)\u001b[0m\n\u001b[1;32m    641\u001b[0m                 \u001b[0;32mfor\u001b[0m \u001b[0mchr\u001b[0m \u001b[0;32min\u001b[0m \u001b[0mparent\u001b[0m\u001b[0;34m.\u001b[0m\u001b[0mdata\u001b[0m\u001b[0;34m.\u001b[0m\u001b[0mDNA\u001b[0m\u001b[0;34m.\u001b[0m\u001b[0mCHRs\u001b[0m\u001b[0;34m:\u001b[0m\u001b[0;34m\u001b[0m\u001b[0;34m\u001b[0m\u001b[0m\n\u001b[1;32m    642\u001b[0m                     \u001b[0mchr\u001b[0m\u001b[0;34m.\u001b[0m\u001b[0mvisual\u001b[0m \u001b[0;34m=\u001b[0m \u001b[0;34m[\u001b[0m\u001b[0;34m]\u001b[0m\u001b[0;34m\u001b[0m\u001b[0;34m\u001b[0m\u001b[0m\n\u001b[0;32m--> 643\u001b[0;31m                 \u001b[0mvisualizator\u001b[0m\u001b[0;34m(\u001b[0m\u001b[0mdoughter1\u001b[0m\u001b[0;34m)\u001b[0m\u001b[0;34m,\u001b[0m \u001b[0mvisualizator\u001b[0m\u001b[0;34m(\u001b[0m\u001b[0mdoughter2\u001b[0m\u001b[0;34m)\u001b[0m\u001b[0;34m\u001b[0m\u001b[0;34m\u001b[0m\u001b[0m\n\u001b[0m\u001b[1;32m    644\u001b[0m         \u001b[0;31m# END INNER FUNCTIONS\u001b[0m\u001b[0;34m\u001b[0m\u001b[0;34m\u001b[0m\u001b[0;34m\u001b[0m\u001b[0m\n\u001b[1;32m    645\u001b[0m         \u001b[0mself\u001b[0m\u001b[0;34m.\u001b[0m\u001b[0mleaves\u001b[0m \u001b[0;34m=\u001b[0m \u001b[0;34m[\u001b[0m\u001b[0;34m]\u001b[0m\u001b[0;34m\u001b[0m\u001b[0;34m\u001b[0m\u001b[0m\n",
      "\u001b[0;32m~/Desktop/Project/yeast_cascade_mutation_simulator/code/Simulator.py\u001b[0m in \u001b[0;36mvisualizator\u001b[0;34m(parent)\u001b[0m\n\u001b[1;32m    641\u001b[0m                 \u001b[0;32mfor\u001b[0m \u001b[0mchr\u001b[0m \u001b[0;32min\u001b[0m \u001b[0mparent\u001b[0m\u001b[0;34m.\u001b[0m\u001b[0mdata\u001b[0m\u001b[0;34m.\u001b[0m\u001b[0mDNA\u001b[0m\u001b[0;34m.\u001b[0m\u001b[0mCHRs\u001b[0m\u001b[0;34m:\u001b[0m\u001b[0;34m\u001b[0m\u001b[0;34m\u001b[0m\u001b[0m\n\u001b[1;32m    642\u001b[0m                     \u001b[0mchr\u001b[0m\u001b[0;34m.\u001b[0m\u001b[0mvisual\u001b[0m \u001b[0;34m=\u001b[0m \u001b[0;34m[\u001b[0m\u001b[0;34m]\u001b[0m\u001b[0;34m\u001b[0m\u001b[0;34m\u001b[0m\u001b[0m\n\u001b[0;32m--> 643\u001b[0;31m                 \u001b[0mvisualizator\u001b[0m\u001b[0;34m(\u001b[0m\u001b[0mdoughter1\u001b[0m\u001b[0;34m)\u001b[0m\u001b[0;34m,\u001b[0m \u001b[0mvisualizator\u001b[0m\u001b[0;34m(\u001b[0m\u001b[0mdoughter2\u001b[0m\u001b[0;34m)\u001b[0m\u001b[0;34m\u001b[0m\u001b[0;34m\u001b[0m\u001b[0m\n\u001b[0m\u001b[1;32m    644\u001b[0m         \u001b[0;31m# END INNER FUNCTIONS\u001b[0m\u001b[0;34m\u001b[0m\u001b[0;34m\u001b[0m\u001b[0;34m\u001b[0m\u001b[0m\n\u001b[1;32m    645\u001b[0m         \u001b[0mself\u001b[0m\u001b[0;34m.\u001b[0m\u001b[0mleaves\u001b[0m \u001b[0;34m=\u001b[0m \u001b[0;34m[\u001b[0m\u001b[0;34m]\u001b[0m\u001b[0;34m\u001b[0m\u001b[0;34m\u001b[0m\u001b[0m\n",
      "\u001b[0;32m~/Desktop/Project/yeast_cascade_mutation_simulator/code/Simulator.py\u001b[0m in \u001b[0;36mvisualizator\u001b[0;34m(parent)\u001b[0m\n\u001b[1;32m    641\u001b[0m                 \u001b[0;32mfor\u001b[0m \u001b[0mchr\u001b[0m \u001b[0;32min\u001b[0m \u001b[0mparent\u001b[0m\u001b[0;34m.\u001b[0m\u001b[0mdata\u001b[0m\u001b[0;34m.\u001b[0m\u001b[0mDNA\u001b[0m\u001b[0;34m.\u001b[0m\u001b[0mCHRs\u001b[0m\u001b[0;34m:\u001b[0m\u001b[0;34m\u001b[0m\u001b[0;34m\u001b[0m\u001b[0m\n\u001b[1;32m    642\u001b[0m                     \u001b[0mchr\u001b[0m\u001b[0;34m.\u001b[0m\u001b[0mvisual\u001b[0m \u001b[0;34m=\u001b[0m \u001b[0;34m[\u001b[0m\u001b[0;34m]\u001b[0m\u001b[0;34m\u001b[0m\u001b[0;34m\u001b[0m\u001b[0m\n\u001b[0;32m--> 643\u001b[0;31m                 \u001b[0mvisualizator\u001b[0m\u001b[0;34m(\u001b[0m\u001b[0mdoughter1\u001b[0m\u001b[0;34m)\u001b[0m\u001b[0;34m,\u001b[0m \u001b[0mvisualizator\u001b[0m\u001b[0;34m(\u001b[0m\u001b[0mdoughter2\u001b[0m\u001b[0;34m)\u001b[0m\u001b[0;34m\u001b[0m\u001b[0;34m\u001b[0m\u001b[0m\n\u001b[0m\u001b[1;32m    644\u001b[0m         \u001b[0;31m# END INNER FUNCTIONS\u001b[0m\u001b[0;34m\u001b[0m\u001b[0;34m\u001b[0m\u001b[0;34m\u001b[0m\u001b[0m\n\u001b[1;32m    645\u001b[0m         \u001b[0mself\u001b[0m\u001b[0;34m.\u001b[0m\u001b[0mleaves\u001b[0m \u001b[0;34m=\u001b[0m \u001b[0;34m[\u001b[0m\u001b[0;34m]\u001b[0m\u001b[0;34m\u001b[0m\u001b[0;34m\u001b[0m\u001b[0m\n",
      "\u001b[0;32m~/Desktop/Project/yeast_cascade_mutation_simulator/code/Simulator.py\u001b[0m in \u001b[0;36mvisualizator\u001b[0;34m(parent)\u001b[0m\n\u001b[1;32m    637\u001b[0m                         \u001b[0mchr\u001b[0m\u001b[0;34m.\u001b[0m\u001b[0mvisual\u001b[0m \u001b[0;34m=\u001b[0m \u001b[0mnp\u001b[0m\u001b[0;34m.\u001b[0m\u001b[0mzeros\u001b[0m\u001b[0;34m(\u001b[0m\u001b[0mchr\u001b[0m\u001b[0;34m.\u001b[0m\u001b[0mlength\u001b[0m\u001b[0;34m)\u001b[0m\u001b[0;34m\u001b[0m\u001b[0;34m\u001b[0m\u001b[0m\n\u001b[1;32m    638\u001b[0m                 \u001b[0mdoughter1\u001b[0m\u001b[0;34m,\u001b[0m \u001b[0mdoughter2\u001b[0m \u001b[0;34m=\u001b[0m \u001b[0mparent\u001b[0m\u001b[0;34m.\u001b[0m\u001b[0mleft\u001b[0m\u001b[0;34m,\u001b[0m \u001b[0mparent\u001b[0m\u001b[0;34m.\u001b[0m\u001b[0mright\u001b[0m\u001b[0;34m\u001b[0m\u001b[0;34m\u001b[0m\u001b[0m\n\u001b[0;32m--> 639\u001b[0;31m                 \u001b[0msingle_doughter_visualizetor\u001b[0m\u001b[0;34m(\u001b[0m\u001b[0mparent\u001b[0m\u001b[0;34m,\u001b[0m \u001b[0mdoughter1\u001b[0m\u001b[0;34m)\u001b[0m\u001b[0;34m,\u001b[0m \u001b[0msingle_doughter_visualizetor\u001b[0m\u001b[0;34m(\u001b[0m\u001b[0mparent\u001b[0m\u001b[0;34m,\u001b[0m \u001b[0mdoughter2\u001b[0m\u001b[0;34m)\u001b[0m\u001b[0;34m\u001b[0m\u001b[0;34m\u001b[0m\u001b[0m\n\u001b[0m\u001b[1;32m    640\u001b[0m             \u001b[0;31m# deletion of the parent visual array\u001b[0m\u001b[0;34m\u001b[0m\u001b[0;34m\u001b[0m\u001b[0;34m\u001b[0m\u001b[0m\n\u001b[1;32m    641\u001b[0m                 \u001b[0;32mfor\u001b[0m \u001b[0mchr\u001b[0m \u001b[0;32min\u001b[0m \u001b[0mparent\u001b[0m\u001b[0;34m.\u001b[0m\u001b[0mdata\u001b[0m\u001b[0;34m.\u001b[0m\u001b[0mDNA\u001b[0m\u001b[0;34m.\u001b[0m\u001b[0mCHRs\u001b[0m\u001b[0;34m:\u001b[0m\u001b[0;34m\u001b[0m\u001b[0;34m\u001b[0m\u001b[0m\n",
      "\u001b[0;32m~/Desktop/Project/yeast_cascade_mutation_simulator/code/Simulator.py\u001b[0m in \u001b[0;36msingle_doughter_visualizetor\u001b[0;34m(parent, doughter)\u001b[0m\n\u001b[1;32m    607\u001b[0m             \u001b[0mn_chr\u001b[0m \u001b[0;34m=\u001b[0m \u001b[0mlen\u001b[0m\u001b[0;34m(\u001b[0m\u001b[0mparent\u001b[0m\u001b[0;34m.\u001b[0m\u001b[0mdata\u001b[0m\u001b[0;34m.\u001b[0m\u001b[0mDNA\u001b[0m\u001b[0;34m.\u001b[0m\u001b[0mCHRs\u001b[0m\u001b[0;34m)\u001b[0m\u001b[0;34m\u001b[0m\u001b[0;34m\u001b[0m\u001b[0m\n\u001b[1;32m    608\u001b[0m             \u001b[0;32mfor\u001b[0m \u001b[0mi\u001b[0m \u001b[0;32min\u001b[0m \u001b[0mrange\u001b[0m\u001b[0;34m(\u001b[0m\u001b[0mn_chr\u001b[0m\u001b[0;34m)\u001b[0m\u001b[0;34m:\u001b[0m\u001b[0;34m\u001b[0m\u001b[0;34m\u001b[0m\u001b[0m\n\u001b[0;32m--> 609\u001b[0;31m                 \u001b[0mdoughter\u001b[0m\u001b[0;34m.\u001b[0m\u001b[0mdata\u001b[0m\u001b[0;34m.\u001b[0m\u001b[0mDNA\u001b[0m\u001b[0;34m.\u001b[0m\u001b[0mCHRs\u001b[0m\u001b[0;34m[\u001b[0m\u001b[0mi\u001b[0m\u001b[0;34m]\u001b[0m\u001b[0;34m.\u001b[0m\u001b[0mvisual\u001b[0m \u001b[0;34m=\u001b[0m \u001b[0mcopy\u001b[0m\u001b[0;34m.\u001b[0m\u001b[0mdeepcopy\u001b[0m\u001b[0;34m(\u001b[0m\u001b[0mparent\u001b[0m\u001b[0;34m.\u001b[0m\u001b[0mdata\u001b[0m\u001b[0;34m.\u001b[0m\u001b[0mDNA\u001b[0m\u001b[0;34m.\u001b[0m\u001b[0mCHRs\u001b[0m\u001b[0;34m[\u001b[0m\u001b[0mi\u001b[0m\u001b[0;34m]\u001b[0m\u001b[0;34m.\u001b[0m\u001b[0mvisual\u001b[0m\u001b[0;34m)\u001b[0m\u001b[0;34m\u001b[0m\u001b[0;34m\u001b[0m\u001b[0m\n\u001b[0m\u001b[1;32m    610\u001b[0m \u001b[0;34m\u001b[0m\u001b[0m\n\u001b[1;32m    611\u001b[0m             \u001b[0;32mfor\u001b[0m \u001b[0mevent\u001b[0m \u001b[0;32min\u001b[0m \u001b[0mdoughter\u001b[0m\u001b[0;34m.\u001b[0m\u001b[0mdata\u001b[0m\u001b[0;34m.\u001b[0m\u001b[0mevents\u001b[0m\u001b[0;34m:\u001b[0m\u001b[0;34m\u001b[0m\u001b[0;34m\u001b[0m\u001b[0m\n",
      "\u001b[0;32m~/opt/anaconda3/lib/python3.8/copy.py\u001b[0m in \u001b[0;36mdeepcopy\u001b[0;34m(x, memo, _nil)\u001b[0m\n\u001b[1;32m    151\u001b[0m             \u001b[0mcopier\u001b[0m \u001b[0;34m=\u001b[0m \u001b[0mgetattr\u001b[0m\u001b[0;34m(\u001b[0m\u001b[0mx\u001b[0m\u001b[0;34m,\u001b[0m \u001b[0;34m\"__deepcopy__\"\u001b[0m\u001b[0;34m,\u001b[0m \u001b[0;32mNone\u001b[0m\u001b[0;34m)\u001b[0m\u001b[0;34m\u001b[0m\u001b[0;34m\u001b[0m\u001b[0m\n\u001b[1;32m    152\u001b[0m             \u001b[0;32mif\u001b[0m \u001b[0mcopier\u001b[0m \u001b[0;32mis\u001b[0m \u001b[0;32mnot\u001b[0m \u001b[0;32mNone\u001b[0m\u001b[0;34m:\u001b[0m\u001b[0;34m\u001b[0m\u001b[0;34m\u001b[0m\u001b[0m\n\u001b[0;32m--> 153\u001b[0;31m                 \u001b[0my\u001b[0m \u001b[0;34m=\u001b[0m \u001b[0mcopier\u001b[0m\u001b[0;34m(\u001b[0m\u001b[0mmemo\u001b[0m\u001b[0;34m)\u001b[0m\u001b[0;34m\u001b[0m\u001b[0;34m\u001b[0m\u001b[0m\n\u001b[0m\u001b[1;32m    154\u001b[0m             \u001b[0;32melse\u001b[0m\u001b[0;34m:\u001b[0m\u001b[0;34m\u001b[0m\u001b[0;34m\u001b[0m\u001b[0m\n\u001b[1;32m    155\u001b[0m                 \u001b[0mreductor\u001b[0m \u001b[0;34m=\u001b[0m \u001b[0mdispatch_table\u001b[0m\u001b[0;34m.\u001b[0m\u001b[0mget\u001b[0m\u001b[0;34m(\u001b[0m\u001b[0mcls\u001b[0m\u001b[0;34m)\u001b[0m\u001b[0;34m\u001b[0m\u001b[0;34m\u001b[0m\u001b[0m\n",
      "\u001b[0;31mKeyboardInterrupt\u001b[0m: "
     ]
    }
   ],
   "source": [
    "n_tot = 10\n",
    "plots = []\n",
    "stat = np.zeros((n_tot, 2))\n",
    "max_stat = np.zeros((n_tot, 2))\n",
    "for average_events_number in range(n_tot):\n",
    "     print(f\"\\nNumber of events: {average_events_number}\")\n",
    "     simul = Simulator(chromosome_table, number_of_generations, average_events_number, cumulative_list, \\\n",
    "     n_events_distrib, del_len_distrib, ins_len_distrib, transl_len_distrib, dupl_len_distrib, visual = True)\n",
    "     simul.run_visualization(simul.parent, number_of_generations)\n",
    "     ave, stdv = simul.stat_cumulated_mutations()\n",
    "     max_ave, max_stdv = simul.stat_max_cumulated_mutations()\n",
    "     stat[average_events_number, 0], stat[average_events_number, 1] = ave, stdv\n",
    "     max_stat[average_events_number, 0], max_stat[average_events_number, 1] = max_ave, max_stdv\n",
    "     print(f\"average: {ave}, standard deviation: {stdv}\")\n",
    "     print(f\"max average: {max_ave}, max standard deviation: {max_stdv}\")"
   ]
  },
  {
   "cell_type": "code",
   "execution_count": null,
   "metadata": {},
   "outputs": [
    {
     "data": {
      "image/png": "[encoded data removed]",
      "text/plain": [
       "<Figure size 432x288 with 1 Axes>"
      ]
     },
     "metadata": {
      "needs_background": "light"
     },
     "output_type": "display_data"
    }
   ],
   "source": [
    "plt.errorbar(range(n_tot), stat[:, 0], yerr=stat[:, 1], marker='o')\n",
    "plt.errorbar(range(n_tot), max_stat[:, 0], yerr=max_stat[:, 1], marker='o')\n",
    "plt.grid(True)"
   ]
  },
  {
   "cell_type": "code",
   "execution_count": null,
   "metadata": {},
   "outputs": [
    {
     "data": {
      "text/plain": [
       "1.4142135623730951"
      ]
     },
     "execution_count": 8,
     "metadata": {},
     "output_type": "execute_result"
    }
   ],
   "source": [
    "np.sqrt(2)"
   ]
  },
  {
   "cell_type": "code",
   "execution_count": null,
   "metadata": {},
   "outputs": [],
   "source": []
  }
 ],
 "metadata": {
  "kernelspec": {
   "display_name": "base",
   "language": "python",
   "name": "python3"
  },
  "language_info": {
   "codemirror_mode": {
    "name": "ipython",
    "version": 3
   },
   "file_extension": ".py",
   "mimetype": "text/x-python",
   "name": "python",
   "nbconvert_exporter": "python",
   "pygments_lexer": "ipython3",
   "version": "3.8.8"
  },
  "orig_nbformat": 4,
  "vscode": {
   "interpreter": {
    "hash": "c86e1eca694fb2777bc75ec55d02678991b99e4c9546afe7af8ea3c560513c3e"
   }
  }
 },
 "nbformat": 4,
 "nbformat_minor": 2
}
