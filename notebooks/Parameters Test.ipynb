{
 "cells": [
  {
   "attachments": {},
   "cell_type": "markdown",
   "metadata": {},
   "source": [
    "# Parameters Test\n",
    "\n",
    "The purpose of this test is to understand which parameter ranges distinguish between the regime in which mutations are not overlapping (thus easily distinguishable) and the regime in which they are overlapping (reconstruction is required)."
   ]
  },
  {
   "cell_type": "code",
   "execution_count": 1,
   "metadata": {},
   "outputs": [],
   "source": [
    "import sys\n",
    "sys.path.insert(1, '../code') \n",
    "from Parameters import *\n",
    "from Simulator import Simulator\n",
    "import matplotlib.pyplot as plt\n",
    "import numpy as np"
   ]
  },
  {
   "attachments": {},
   "cell_type": "markdown",
   "metadata": {},
   "source": [
    "## First Test: average number of events for each duplication\n",
    "\n",
    "Here for semplicity we set: \n",
    "- distribution of the number of events = Poisson distribution;\n",
    "- distribution of the Rearrangement length = truncated uniform distribution;\n",
    "- all the events (Rearrangements/Mutations) are equiprobable:\n",
    "\n",
    "The planned simulation should reach $O(10^6)$ cells at the end of the last generation (which would be the 20th). Unfortunately, my laptop does not reach the computing power and memory required to simulate 20 generations. \\\n",
    "To overcome the problem, we will simulate only 5 generations ($\\frac{1}{4}$ of the total). Assuming that for each duplication each cell undergoes an average number of events, we expect that the average number of events that will give the same result but in 20 generations will be $\\frac{1}{4}$ of that found."
   ]
  },
  {
   "cell_type": "code",
   "execution_count": 2,
   "metadata": {},
   "outputs": [],
   "source": [
    "number_of_generations = 5"
   ]
  },
  {
   "cell_type": "code",
   "execution_count": 3,
   "metadata": {},
   "outputs": [
    {
     "name": "stdout",
     "output_type": "stream",
     "text": [
      "\n",
      "Number of events: 0\n",
      "average: 0.0, standard deviation: 0.0\n",
      "max average: 0.0, max standard deviation: 0.0\n",
      "\n",
      "Number of events: 1\n",
      "average: 0.35546875, standard deviation: 0.48674759144081803\n",
      "max average: 1.375, max standard deviation: 0.4841229182759271\n",
      "\n",
      "Number of events: 2\n",
      "average: 0.525390625, standard deviation: 0.568835711046792\n",
      "max average: 2.0, max standard deviation: 0.0\n",
      "\n",
      "Number of events: 3\n",
      "average: 0.673828125, standard deviation: 0.49711923414708503\n",
      "max average: 1.84375, max standard deviation: 0.3630921887069453\n",
      "\n",
      "Number of events: 4\n",
      "average: 0.880859375, standard deviation: 0.4501137483732411\n",
      "max average: 2.0, max standard deviation: 0.0\n",
      "\n",
      "Number of events: 5\n",
      "average: 0.86328125, standard deviation: 0.5124041211762816\n",
      "max average: 2.03125, max standard deviation: 0.8472151069828724\n",
      "\n",
      "Number of events: 6\n",
      "average: 0.896484375, standard deviation: 0.4319145058699226\n",
      "max average: 1.96875, max standard deviation: 0.17399263633843817\n",
      "\n",
      "Number of events: 7\n",
      "average: 1.1015625, standard deviation: 0.45654688542771815\n",
      "max average: 2.625, max standard deviation: 0.4841229182759271\n",
      "\n",
      "Number of events: 8\n",
      "average: 1.15625, standard deviation: 0.5144399260360728\n",
      "max average: 3.0, max standard deviation: 0.0\n",
      "\n",
      "Number of events: 9\n",
      "average: 1.13671875, standard deviation: 0.46860349272966106\n",
      "max average: 2.875, max standard deviation: 0.33071891388307384\n",
      "\n",
      "Number of events: 10\n",
      "average: 1.130859375, standard deviation: 0.41512522083656805\n",
      "max average: 2.96875, max standard deviation: 0.17399263633843817\n",
      "\n",
      "Number of events: 11\n",
      "average: 1.109375, standard deviation: 0.3798514306607256\n",
      "max average: 2.0, max standard deviation: 0.0\n",
      "\n",
      "Number of events: 12\n",
      "average: 1.189453125, standard deviation: 0.4853780881207292\n",
      "max average: 2.9375, max standard deviation: 0.24206145913796356\n",
      "\n",
      "Number of events: 13\n",
      "average: 1.169921875, standard deviation: 0.4289722384915886\n",
      "max average: 2.5625, max standard deviation: 0.49607837082461076\n",
      "\n",
      "Number of events: 14\n",
      "average: 1.3203125, standard deviation: 0.5403065355367729\n",
      "max average: 3.78125, max standard deviation: 0.5986638768958755\n",
      "\n",
      "Number of events: 15\n",
      "average: 1.2890625, standard deviation: 0.5139057511779276\n",
      "max average: 2.90625, max standard deviation: 0.2914805954090255\n",
      "\n",
      "Number of events: 16\n",
      "average: 1.314453125, standard deviation: 0.5122961615879377\n",
      "max average: 3.0, max standard deviation: 0.0\n",
      "\n",
      "Number of events: 17\n",
      "average: 1.365234375, standard deviation: 0.6565492946598598\n",
      "max average: 3.53125, max standard deviation: 0.6606992034958117\n",
      "\n",
      "Number of events: 18\n",
      "average: 1.4453125, standard deviation: 0.6380952337572738\n",
      "max average: 3.25, max standard deviation: 0.6123724356957945\n",
      "\n",
      "Number of events: 19\n",
      "average: 1.408203125, standard deviation: 0.5857779730753234\n",
      "max average: 3.6875, max standard deviation: 0.6817945071647321\n"
     ]
    }
   ],
   "source": [
    "n_tot = 20\n",
    "plots = []\n",
    "stat = np.zeros((n_tot, 2))\n",
    "max_stat = np.zeros((n_tot, 2))\n",
    "for average_events_number in range(n_tot):\n",
    "     print(f\"\\nNumber of events: {average_events_number}\")\n",
    "     simul = Simulator(chromosome_table, number_of_generations, average_events_number, cumulative_list, \\\n",
    "          n_events_distrib, del_len_distrib, ins_len_distrib, transl_len_distrib, dupl_len_distrib)\n",
    "     simul.run_visualization(simul.parent, number_of_generations)\n",
    "     ave, stdv = simul.stat_superposed_mutations()\n",
    "     max_ave, max_stdv = simul.stat_max_superposed_mutations()\n",
    "     stat[average_events_number, 0], stat[average_events_number, 1] = ave, stdv\n",
    "     max_stat[average_events_number, 0], max_stat[average_events_number, 1] = max_ave, max_stdv\n",
    "     print(f\"average: {ave}, standard deviation: {stdv}\")\n",
    "     print(f\"max average: {max_ave}, max standard deviation: {max_stdv}\")"
   ]
  },
  {
   "cell_type": "code",
   "execution_count": 4,
   "metadata": {},
   "outputs": [
    {
     "data": {
      "image/png": "[encoded data removed]",
      "text/plain": [
       "<Figure size 432x288 with 1 Axes>"
      ]
     },
     "metadata": {
      "needs_background": "light"
     },
     "output_type": "display_data"
    }
   ],
   "source": [
    "fig, ax = plt.subplots() \n",
    "ax.set_title(\"Average overlapped mutations\")\n",
    "ax.set_xlabel(\"Number of Generations\")\n",
    "ax.errorbar(range(n_tot), stat[:, 0], yerr=stat[:, 1], marker='o', label='over the each chromosome')\n",
    "ax.errorbar(range(n_tot), max_stat[:, 0], yerr=max_stat[:, 1], marker='o', label='over the each cell')\n",
    "ax.legend()\n",
    "ax.grid(True)"
   ]
  },
  {
   "attachments": {},
   "cell_type": "markdown",
   "metadata": {},
   "source": [
    "Test with halved number of generations"
   ]
  },
  {
   "cell_type": "code",
   "execution_count": 5,
   "metadata": {},
   "outputs": [],
   "source": [
    "number_of_generations = 3"
   ]
  },
  {
   "cell_type": "code",
   "execution_count": 6,
   "metadata": {},
   "outputs": [
    {
     "name": "stdout",
     "output_type": "stream",
     "text": [
      "\n",
      "Number of events: 0\n"
     ]
    },
    {
     "ename": "AttributeError",
     "evalue": "'Simulator' object has no attribute 'chromosome_visualizator'",
     "output_type": "error",
     "traceback": [
      "\u001b[0;31m---------------------------------------------------------------------------\u001b[0m",
      "\u001b[0;31mAttributeError\u001b[0m                            Traceback (most recent call last)",
      "\u001b[0;32m<ipython-input-6-88f7c9bab9a0>\u001b[0m in \u001b[0;36m<module>\u001b[0;34m\u001b[0m\n\u001b[1;32m      7\u001b[0m      simul = Simulator(chromosome_table, number_of_generations, average_events_number, cumulative_list, \\\n\u001b[1;32m      8\u001b[0m      n_events_distrib, del_len_distrib, ins_len_distrib, transl_len_distrib, dupl_len_distrib, visual = True)\n\u001b[0;32m----> 9\u001b[0;31m      \u001b[0mplots\u001b[0m\u001b[0;34m.\u001b[0m\u001b[0mappend\u001b[0m\u001b[0;34m(\u001b[0m\u001b[0msimul\u001b[0m\u001b[0;34m.\u001b[0m\u001b[0mchromosome_visualizator\u001b[0m\u001b[0;34m(\u001b[0m\u001b[0;36m1\u001b[0m\u001b[0;34m)\u001b[0m\u001b[0;34m)\u001b[0m\u001b[0;34m\u001b[0m\u001b[0;34m\u001b[0m\u001b[0m\n\u001b[0m\u001b[1;32m     10\u001b[0m      \u001b[0mave\u001b[0m\u001b[0;34m,\u001b[0m \u001b[0mstdv\u001b[0m \u001b[0;34m=\u001b[0m \u001b[0msimul\u001b[0m\u001b[0;34m.\u001b[0m\u001b[0mstat_superposed_mutations\u001b[0m\u001b[0;34m(\u001b[0m\u001b[0;34m)\u001b[0m\u001b[0;34m\u001b[0m\u001b[0;34m\u001b[0m\u001b[0m\n\u001b[1;32m     11\u001b[0m      \u001b[0mmax_ave\u001b[0m\u001b[0;34m,\u001b[0m \u001b[0mmax_stdv\u001b[0m \u001b[0;34m=\u001b[0m \u001b[0msimul\u001b[0m\u001b[0;34m.\u001b[0m\u001b[0mstat_max_superposed_mutations\u001b[0m\u001b[0;34m(\u001b[0m\u001b[0;34m)\u001b[0m\u001b[0;34m\u001b[0m\u001b[0;34m\u001b[0m\u001b[0m\n",
      "\u001b[0;31mAttributeError\u001b[0m: 'Simulator' object has no attribute 'chromosome_visualizator'"
     ]
    }
   ],
   "source": [
    "n_tot = 10\n",
    "plots = []\n",
    "stat = np.zeros((n_tot, 2))\n",
    "max_stat = np.zeros((n_tot, 2))\n",
    "for average_events_number in range(n_tot):\n",
    "     print(f\"\\nNumber of events: {average_events_number}\")\n",
    "     simul = Simulator(chromosome_table, number_of_generations, average_events_number, cumulative_list, \\\n",
    "     n_events_distrib, del_len_distrib, ins_len_distrib, transl_len_distrib, dupl_len_distrib, visual = True)\n",
    "     plots.append(simul.chromosome_visualizator(1))\n",
    "     ave, stdv = simul.stat_superposed_mutations()\n",
    "     max_ave, max_stdv = simul.stat_max_superposed_mutations()\n",
    "     stat[average_events_number, 0], stat[average_events_number, 1] = ave, stdv\n",
    "     max_stat[average_events_number, 0], max_stat[average_events_number, 1] = max_ave, max_stdv\n",
    "     print(f\"average: {ave}, standard deviation: {stdv}\")\n",
    "     print(f\"max average: {max_ave}, max standard deviation: {max_stdv}\")"
   ]
  },
  {
   "cell_type": "code",
   "execution_count": null,
   "metadata": {},
   "outputs": [
    {
     "data": {
      "image/png": "[encoded data removed]",
      "text/plain": [
       "<Figure size 432x288 with 1 Axes>"
      ]
     },
     "metadata": {
      "needs_background": "light"
     },
     "output_type": "display_data"
    }
   ],
   "source": [
    "plt.errorbar(range(n_tot), stat[:, 0], yerr=stat[:, 1], marker='o')\n",
    "plt.errorbar(range(n_tot), max_stat[:, 0], yerr=max_stat[:, 1], marker='o')\n",
    "plt.grid(True)"
   ]
  },
  {
   "cell_type": "code",
   "execution_count": null,
   "metadata": {},
   "outputs": [
    {
     "data": {
      "text/plain": [
       "1.4142135623730951"
      ]
     },
     "execution_count": 8,
     "metadata": {},
     "output_type": "execute_result"
    }
   ],
   "source": [
    "np.sqrt(2)"
   ]
  },
  {
   "cell_type": "code",
   "execution_count": null,
   "metadata": {},
   "outputs": [],
   "source": []
  }
 ],
 "metadata": {
  "kernelspec": {
   "display_name": "base",
   "language": "python",
   "name": "python3"
  },
  "language_info": {
   "codemirror_mode": {
    "name": "ipython",
    "version": 3
   },
   "file_extension": ".py",
   "mimetype": "text/x-python",
   "name": "python",
   "nbconvert_exporter": "python",
   "pygments_lexer": "ipython3",
   "version": "3.8.8"
  },
  "orig_nbformat": 4,
  "vscode": {
   "interpreter": {
    "hash": "c86e1eca694fb2777bc75ec55d02678991b99e4c9546afe7af8ea3c560513c3e"
   }
  }
 },
 "nbformat": 4,
 "nbformat_minor": 2
}
