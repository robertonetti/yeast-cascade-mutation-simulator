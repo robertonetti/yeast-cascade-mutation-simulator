{
 "cells": [
  {
   "cell_type": "code",
   "execution_count": 15,
   "metadata": {},
   "outputs": [
    {
     "name": "stdout",
     "output_type": "stream",
     "text": [
      "last generation - CHR1 - visual: [1. 1. 2. 1. 0. 0. 2. 0.]\n"
     ]
    }
   ],
   "source": [
    "import sys\n",
    "sys.path.insert(1, '../code') \n",
    "from Simulator import Simulator\n",
    "from Utility import Utility\n",
    "\n",
    "# Step 1 (Simulation)\n",
    "number_of_generations = 5\n",
    "chromosome_lengths = [int(20), int(20)] \n",
    "chromosome_table = Utility.random_seq_initializer(chromosome_lengths)\n",
    "simul = Simulator(chromosome_table, number_of_generations)\n",
    "\n",
    "# Step 2 (Visualization)\n",
    "simul.run_visualization(simul.parent, number_of_generations)\n",
    "print(f\"last generation - CHR1 - visual: {simul.leaves[0].DNA.CHRs[0].visual}\")"
   ]
  },
  {
   "cell_type": "code",
   "execution_count": null,
   "metadata": {},
   "outputs": [],
   "source": []
  }
 ],
 "metadata": {
  "kernelspec": {
   "display_name": "base",
   "language": "python",
   "name": "python3"
  },
  "language_info": {
   "codemirror_mode": {
    "name": "ipython",
    "version": 3
   },
   "file_extension": ".py",
   "mimetype": "text/x-python",
   "name": "python",
   "nbconvert_exporter": "python",
   "pygments_lexer": "ipython3",
   "version": "3.8.8 (default, Apr 13 2021, 12:59:45) \n[Clang 10.0.0 ]"
  },
  "orig_nbformat": 4,
  "vscode": {
   "interpreter": {
    "hash": "c86e1eca694fb2777bc75ec55d02678991b99e4c9546afe7af8ea3c560513c3e"
   }
  }
 },
 "nbformat": 4,
 "nbformat_minor": 2
}
