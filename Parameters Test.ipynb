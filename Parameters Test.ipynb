{
 "cells": [
  {
   "attachments": {},
   "cell_type": "markdown",
   "metadata": {},
   "source": [
    "# Parameters Test\n",
    "\n",
    "The purpose of this test is to understand which parameter ranges distinguish between the regime in which mutations are not overlapping (thus easily distinguishable) and the regime in which they are overlapping (reconstruction is required)."
   ]
  },
  {
   "cell_type": "code",
   "execution_count": 1,
   "metadata": {},
   "outputs": [],
   "source": [
    "from code.Parameters import *\n",
    "from code.Simulator import Simulator\n",
    "import matplotlib.pyplot as plt\n",
    "import numpy as np"
   ]
  },
  {
   "attachments": {},
   "cell_type": "markdown",
   "metadata": {},
   "source": [
    "## First Test: average number of events for each duplication\n",
    "\n",
    "Here for semplicity we set: \n",
    "- distribution of the number of events = Poisson distribution;\n",
    "- distribution of the Rearrangement length = truncated uniform distribution;\n",
    "- all the events (Rearrangements/Mutations) are equiprobable:\n",
    "\n",
    "The planned simulation should reach $O(10^6)$ cells at the end of the last generation (which would be the 20th). Unfortunately, my laptop does not reach the computing power and memory required to simulate 20 generations. \\\n",
    "To overcome the problem, we will simulate only 5 generations ($\\frac{1}{4}$ of the total). Assuming that for each duplication each cell undergoes an average number of events, we expect that the average number of events that will give the same result but in 20 generations will be $\\frac{1}{4}$ of that found."
   ]
  },
  {
   "cell_type": "code",
   "execution_count": 2,
   "metadata": {},
   "outputs": [],
   "source": [
    "number_of_generations = 5"
   ]
  },
  {
   "cell_type": "code",
   "execution_count": 3,
   "metadata": {},
   "outputs": [
    {
     "name": "stdout",
     "output_type": "stream",
     "text": [
      "\n",
      "Number of events: 0\n",
      "average: 0.0, standard deviation: 0.0\n",
      "max average: 0.0, max standard deviation: 0.0\n",
      "\n",
      "Number of events: 1\n",
      "average: 0.337890625, standard deviation: 0.5422481447982181\n",
      "max average: 1.90625, max standard deviation: 0.38400642898264087\n",
      "\n",
      "Number of events: 2\n",
      "average: 0.44921875, standard deviation: 0.5531862386650969\n",
      "max average: 1.75, max standard deviation: 0.4330127018922193\n",
      "\n",
      "Number of events: 3\n",
      "average: 0.80859375, standard deviation: 0.6632692872890599\n",
      "max average: 3.0, max standard deviation: 0.0\n",
      "\n",
      "Number of events: 4\n",
      "average: 1.072265625, standard deviation: 0.7810326846191261\n",
      "max average: 3.78125, max standard deviation: 0.5986638768958755\n",
      "\n",
      "Number of events: 5\n",
      "average: 0.98828125, standard deviation: 0.7755160674663275\n",
      "max average: 2.9375, max standard deviation: 0.24206145913796356\n",
      "\n",
      "Number of events: 6\n",
      "average: 1.19140625, standard deviation: 0.7896327611370602\n",
      "max average: 4.875, max standard deviation: 0.4841229182759271\n",
      "\n",
      "Number of events: 7\n",
      "average: 1.310546875, standard deviation: 0.7801530384660015\n",
      "max average: 3.5625, max standard deviation: 0.49607837082461076\n",
      "\n",
      "Number of events: 8\n",
      "average: 1.53515625, standard deviation: 0.9093343928863229\n",
      "max average: 4.0, max standard deviation: 0.0\n",
      "\n",
      "Number of events: 9\n",
      "average: 1.451171875, standard deviation: 0.8253542053015689\n",
      "max average: 3.5, max standard deviation: 0.6123724356957945\n"
     ]
    }
   ],
   "source": [
    "n_tot = 10\n",
    "plots = []\n",
    "stat = np.zeros((n_tot, 2))\n",
    "max_stat = np.zeros((n_tot, 2))\n",
    "for average_events_number in range(n_tot):\n",
    "     print(f\"\\nNumber of events: {average_events_number}\")\n",
    "     simul = Simulator(chromosome_table, number_of_generations, average_events_number, cumulative_list, \\\n",
    "     n_events_distrib, del_len_distrib, ins_len_distrib, transl_len_distrib, dupl_len_distrib, visual = True)\n",
    "     plots.append(simul.chromosome_visualizator(1))\n",
    "     ave, stdv = simul.stat_superposed_mutations()\n",
    "     max_ave, max_stdv = simul.stat_max_superposed_mutations()\n",
    "     stat[average_events_number, 0], stat[average_events_number, 1] = ave, stdv\n",
    "     max_stat[average_events_number, 0], max_stat[average_events_number, 1] = max_ave, max_stdv\n",
    "     print(f\"average: {ave}, standard deviation: {stdv}\")\n",
    "     print(f\"max average: {max_ave}, max standard deviation: {max_stdv}\")"
   ]
  },
  {
   "cell_type": "code",
   "execution_count": 19,
   "metadata": {},
   "outputs": [
    {
     "data": {
      "image/png": "[encoded data removed]",
      "text/plain": [
       "<Figure size 432x288 with 1 Axes>"
      ]
     },
     "metadata": {
      "needs_background": "light"
     },
     "output_type": "display_data"
    }
   ],
   "source": [
    "fig, ax = plt.subplots() \n",
    "ax.set_title(\"Average overlapped mutations\")\n",
    "ax.set_xlabel(\"Number of Generations\")\n",
    "ax.errorbar(range(n_tot), stat[:, 0], yerr=stat[:, 1], marker='o', label='over the each chromosome')\n",
    "ax.errorbar(range(n_tot), max_stat[:, 0], yerr=max_stat[:, 1], label='over the each cell')\n",
    "ax.legend()\n",
    "ax.grid(True)"
   ]
  },
  {
   "attachments": {},
   "cell_type": "markdown",
   "metadata": {},
   "source": [
    "Test with halved number of generations"
   ]
  },
  {
   "cell_type": "code",
   "execution_count": 5,
   "metadata": {},
   "outputs": [],
   "source": [
    "number_of_generations = 3"
   ]
  },
  {
   "cell_type": "code",
   "execution_count": 6,
   "metadata": {},
   "outputs": [
    {
     "name": "stdout",
     "output_type": "stream",
     "text": [
      "\n",
      "Number of events: 0\n",
      "average: 0.0, standard deviation: 0.0\n",
      "max average: 0.0, max standard deviation: 0.0\n",
      "\n",
      "Number of events: 1\n",
      "average: 0.1953125, standard deviation: 0.4686848913115826\n",
      "max average: 2.0, max standard deviation: 0.0\n",
      "\n",
      "Number of events: 2\n",
      "average: 0.2421875, standard deviation: 0.4634465609363716\n",
      "max average: 1.5, max standard deviation: 0.5\n",
      "\n",
      "Number of events: 3\n",
      "average: 0.6484375, standard deviation: 0.6071172115775915\n",
      "max average: 1.75, max standard deviation: 0.4330127018922193\n",
      "\n",
      "Number of events: 4\n",
      "average: 0.4609375, standard deviation: 0.5576505367107163\n",
      "max average: 1.25, max standard deviation: 0.4330127018922193\n",
      "\n",
      "Number of events: 5\n",
      "average: 0.8515625, standard deviation: 0.7080987279989635\n",
      "max average: 3.875, max standard deviation: 0.33071891388307384\n",
      "\n",
      "Number of events: 6\n",
      "average: 0.7265625, standard deviation: 0.6087236101826099\n",
      "max average: 1.875, max standard deviation: 0.33071891388307384\n",
      "\n",
      "Number of events: 7\n",
      "average: 1.0390625, standard deviation: 0.8514908226714778\n",
      "max average: 3.0, max standard deviation: 0.0\n",
      "\n",
      "Number of events: 8\n",
      "average: 0.8828125, standard deviation: 0.7139359844157948\n",
      "max average: 2.875, max standard deviation: 0.33071891388307384\n",
      "\n",
      "Number of events: 9\n",
      "average: 0.984375, standard deviation: 0.7904149918713587\n",
      "max average: 3.0, max standard deviation: 0.0\n"
     ]
    }
   ],
   "source": [
    "n_tot = 10\n",
    "plots = []\n",
    "stat = np.zeros((n_tot, 2))\n",
    "max_stat = np.zeros((n_tot, 2))\n",
    "for average_events_number in range(n_tot):\n",
    "     print(f\"\\nNumber of events: {average_events_number}\")\n",
    "     simul = Simulator(chromosome_table, number_of_generations, average_events_number, cumulative_list, \\\n",
    "     n_events_distrib, del_len_distrib, ins_len_distrib, transl_len_distrib, dupl_len_distrib, visual = True)\n",
    "     plots.append(simul.chromosome_visualizator(1))\n",
    "     ave, stdv = simul.stat_superposed_mutations()\n",
    "     max_ave, max_stdv = simul.stat_max_superposed_mutations()\n",
    "     stat[average_events_number, 0], stat[average_events_number, 1] = ave, stdv\n",
    "     max_stat[average_events_number, 0], max_stat[average_events_number, 1] = max_ave, max_stdv\n",
    "     print(f\"average: {ave}, standard deviation: {stdv}\")\n",
    "     print(f\"max average: {max_ave}, max standard deviation: {max_stdv}\")"
   ]
  },
  {
   "cell_type": "code",
   "execution_count": 7,
   "metadata": {},
   "outputs": [
    {
     "data": {
      "image/png": "[encoded data removed]",
      "text/plain": [
       "<Figure size 432x288 with 1 Axes>"
      ]
     },
     "metadata": {
      "needs_background": "light"
     },
     "output_type": "display_data"
    }
   ],
   "source": [
    "plt.errorbar(range(n_tot), stat[:, 0], yerr=stat[:, 1])\n",
    "plt.errorbar(range(n_tot), max_stat[:, 0], yerr=max_stat[:, 1])\n",
    "plt.grid(True)"
   ]
  },
  {
   "cell_type": "code",
   "execution_count": 8,
   "metadata": {},
   "outputs": [
    {
     "data": {
      "text/plain": [
       "1.4142135623730951"
      ]
     },
     "execution_count": 8,
     "metadata": {},
     "output_type": "execute_result"
    }
   ],
   "source": [
    "np.sqrt(2)"
   ]
  },
  {
   "cell_type": "code",
   "execution_count": null,
   "metadata": {},
   "outputs": [],
   "source": []
  }
 ],
 "metadata": {
  "kernelspec": {
   "display_name": "base",
   "language": "python",
   "name": "python3"
  },
  "language_info": {
   "codemirror_mode": {
    "name": "ipython",
    "version": 3
   },
   "file_extension": ".py",
   "mimetype": "text/x-python",
   "name": "python",
   "nbconvert_exporter": "python",
   "pygments_lexer": "ipython3",
   "version": "3.8.8"
  },
  "orig_nbformat": 4,
  "vscode": {
   "interpreter": {
    "hash": "c86e1eca694fb2777bc75ec55d02678991b99e4c9546afe7af8ea3c560513c3e"
   }
  }
 },
 "nbformat": 4,
 "nbformat_minor": 2
}
