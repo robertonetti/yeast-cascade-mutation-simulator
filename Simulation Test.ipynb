{
 "cells": [
  {
   "attachments": {},
   "cell_type": "markdown",
   "metadata": {},
   "source": [
    "# Simulation Test"
   ]
  },
  {
   "cell_type": "code",
   "execution_count": 1,
   "metadata": {},
   "outputs": [],
   "source": [
    "from code.Parameters import *\n",
    "from code.Simulator import Simulator\n",
    "from code.Utility import Utility\n",
    "import matplotlib.pyplot as plt"
   ]
  },
  {
   "cell_type": "code",
   "execution_count": 2,
   "metadata": {},
   "outputs": [],
   "source": [
    "# SIMULATION \n",
    "simul = Simulator(chromosome_table, number_of_generations, average_events_number, cumulative_list, \\\n",
    "     n_events_distrib, del_len_distrib, ins_len_distrib, transl_len_distrib, dupl_len_distrib )"
   ]
  },
  {
   "cell_type": "code",
   "execution_count": 3,
   "metadata": {},
   "outputs": [
    {
     "name": "stdout",
     "output_type": "stream",
     "text": [
      "\n",
      "Average Genome Length: 3395217.21875 \n",
      "Initial Genome Length: 8000000\n"
     ]
    },
    {
     "data": {
      "image/png": "[encoded data removed]",
      "text/plain": [
       "<Figure size 432x288 with 1 Axes>"
      ]
     },
     "metadata": {
      "needs_background": "light"
     },
     "output_type": "display_data"
    }
   ],
   "source": [
    "# AVERAGES\n",
    "initial_genome_len = sum([len(seq) for id, seq in chromosome_table])\n",
    "initial_ave_len = initial_genome_len / len(chromosome_table)\n",
    "print(\"\\nAverage Genome Length:\", simul.average_genome_length, \"\\nInitial Genome Length:\", initial_genome_len)\n",
    "\n",
    "# BOX PLOT\n",
    "fig, ax = plt.subplots()\n",
    "plt.bar(range(1, len(chromosome_table) + 1), simul.average_chromosome_length, \\\n",
    "    yerr = simul.chr_length_st_dev, width = 0.4)\n",
    "    \n",
    "ax.plot([1., len(chromosome_table)], [initial_ave_len, initial_ave_len], \"k--\", label = \"Initial Average Length\")\n",
    "plt.xlabel(\"Chromosome ID\")\n",
    "plt.ylabel(\"Chromosome Length\")\n",
    "plt.title(f\"Average Chromosome Length ({number_of_generations} generations)\")\n",
    "plt.legend()\n",
    "plt.show()"
   ]
  },
  {
   "cell_type": "code",
   "execution_count": 4,
   "metadata": {},
   "outputs": [
    {
     "data": {
      "text/plain": [
       "[Chromosome(ID: 1, length: 335800, sequence: None),\n",
       " Chromosome(ID: 2, length: 195627, sequence: None),\n",
       " Chromosome(ID: 3, length: 251009, sequence: None),\n",
       " Chromosome(ID: 4, length: 398029, sequence: None),\n",
       " Chromosome(ID: 5, length: 35311, sequence: None),\n",
       " Chromosome(ID: 6, length: 199745, sequence: None),\n",
       " Chromosome(ID: 7, length: 57560, sequence: None),\n",
       " Chromosome(ID: 8, length: 26495, sequence: None),\n",
       " Chromosome(ID: 9, length: 262915, sequence: None),\n",
       " Chromosome(ID: 10, length: 390911, sequence: None),\n",
       " Chromosome(ID: 11, length: 170279, sequence: None),\n",
       " Chromosome(ID: 12, length: 20876, sequence: None),\n",
       " Chromosome(ID: 13, length: 94559, sequence: None),\n",
       " Chromosome(ID: 14, length: 130248, sequence: None),\n",
       " Chromosome(ID: 15, length: 298553, sequence: None),\n",
       " Chromosome(ID: 16, length: 5712, sequence: None)]"
      ]
     },
     "execution_count": 4,
     "metadata": {},
     "output_type": "execute_result"
    }
   ],
   "source": [
    "from scipy.sparse import *\n",
    "simul.leaves[0].DNA.CHRs"
   ]
  },
  {
   "cell_type": "code",
   "execution_count": 7,
   "metadata": {},
   "outputs": [],
   "source": [
    "c = simul.leaves[0].DNA.CHRs[7].visual.todense().tolist()[0]"
   ]
  },
  {
   "cell_type": "code",
   "execution_count": 8,
   "metadata": {},
   "outputs": [
    {
     "data": {
      "text/plain": [
       "[<matplotlib.lines.Line2D at 0x7fbf83caf9d0>]"
      ]
     },
     "execution_count": 8,
     "metadata": {},
     "output_type": "execute_result"
    },
    {
     "data": {
      "image/png": "[encoded data removed]",
      "text/plain": [
       "<Figure size 432x288 with 1 Axes>"
      ]
     },
     "metadata": {
      "needs_background": "light"
     },
     "output_type": "display_data"
    }
   ],
   "source": [
    "plt.plot(range(1, len(c) + 1), c)"
   ]
  },
  {
   "cell_type": "code",
   "execution_count": null,
   "metadata": {},
   "outputs": [],
   "source": []
  }
 ],
 "metadata": {
  "kernelspec": {
   "display_name": "base",
   "language": "python",
   "name": "python3"
  },
  "language_info": {
   "codemirror_mode": {
    "name": "ipython",
    "version": 3
   },
   "file_extension": ".py",
   "mimetype": "text/x-python",
   "name": "python",
   "nbconvert_exporter": "python",
   "pygments_lexer": "ipython3",
   "version": "3.8.8"
  },
  "orig_nbformat": 4,
  "vscode": {
   "interpreter": {
    "hash": "c86e1eca694fb2777bc75ec55d02678991b99e4c9546afe7af8ea3c560513c3e"
   }
  }
 },
 "nbformat": 4,
 "nbformat_minor": 2
}
